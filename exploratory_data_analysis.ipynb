{
 "cells": [
  {
   "cell_type": "markdown",
   "metadata": {},
   "source": [
    "# Introduction"
   ]
  },
  {
   "attachments": {},
   "cell_type": "markdown",
   "metadata": {},
   "source": [
    "Using a data set consisting of health and demographic data obtained from Global Health Observatory Data Repository to structure and present analysis. We will be answering the questions and performing any additional analysis that will help us understand what's going on in the data. We are going present the work using this notebook."
   ]
  },
  {
   "cell_type": "markdown",
   "metadata": {},
   "source": [
    "# Data processing"
   ]
  },
  {
   "cell_type": "markdown",
   "metadata": {},
   "source": [
    "Importing modules"
   ]
  },
  {
   "cell_type": "code",
   "execution_count": 1,
   "metadata": {},
   "outputs": [],
   "source": [
    "import warnings\n",
    "warnings.filterwarnings('ignore')\n",
    "import pandas as pd\n",
    "import numpy as np\n",
    "import seaborn as sns\n",
    "import matplotlib.pyplot as plt"
   ]
  },
  {
   "cell_type": "markdown",
   "metadata": {},
   "source": [
    "Below we use pandas pd.read_csv method to read in the data csv file and we also check if there are missing values by using isnull()"
   ]
  },
  {
   "cell_type": "code",
   "execution_count": 2,
   "metadata": {},
   "outputs": [
    {
     "data": {
      "text/html": [
       "<div>\n",
       "<style scoped>\n",
       "    .dataframe tbody tr th:only-of-type {\n",
       "        vertical-align: middle;\n",
       "    }\n",
       "\n",
       "    .dataframe tbody tr th {\n",
       "        vertical-align: top;\n",
       "    }\n",
       "\n",
       "    .dataframe thead th {\n",
       "        text-align: right;\n",
       "    }\n",
       "</style>\n",
       "<table border=\"1\" class=\"dataframe\">\n",
       "  <thead>\n",
       "    <tr style=\"text-align: right;\">\n",
       "      <th></th>\n",
       "      <th>Country</th>\n",
       "      <th>Region</th>\n",
       "      <th>Population</th>\n",
       "      <th>Under15</th>\n",
       "      <th>Over60</th>\n",
       "      <th>FertilityRate</th>\n",
       "      <th>LifeExpectancy</th>\n",
       "      <th>ChildMortality</th>\n",
       "      <th>CellularSubscribers</th>\n",
       "      <th>LiteracyRate</th>\n",
       "      <th>GNI</th>\n",
       "      <th>PrimarySchoolEnrollmentMale</th>\n",
       "      <th>PrimarySchoolEnrollmentFemale</th>\n",
       "    </tr>\n",
       "  </thead>\n",
       "  <tbody>\n",
       "    <tr>\n",
       "      <th>0</th>\n",
       "      <td>Afghanistan</td>\n",
       "      <td>Eastern Mediterranean</td>\n",
       "      <td>29825</td>\n",
       "      <td>47.42</td>\n",
       "      <td>3.82</td>\n",
       "      <td>5.40</td>\n",
       "      <td>60</td>\n",
       "      <td>98.5</td>\n",
       "      <td>54.26</td>\n",
       "      <td>NaN</td>\n",
       "      <td>1140.0</td>\n",
       "      <td>NaN</td>\n",
       "      <td>NaN</td>\n",
       "    </tr>\n",
       "    <tr>\n",
       "      <th>1</th>\n",
       "      <td>Albania</td>\n",
       "      <td>Europe</td>\n",
       "      <td>3162</td>\n",
       "      <td>21.33</td>\n",
       "      <td>14.93</td>\n",
       "      <td>1.75</td>\n",
       "      <td>74</td>\n",
       "      <td>16.7</td>\n",
       "      <td>96.39</td>\n",
       "      <td>NaN</td>\n",
       "      <td>8820.0</td>\n",
       "      <td>NaN</td>\n",
       "      <td>NaN</td>\n",
       "    </tr>\n",
       "    <tr>\n",
       "      <th>2</th>\n",
       "      <td>Algeria</td>\n",
       "      <td>Africa</td>\n",
       "      <td>38482</td>\n",
       "      <td>27.42</td>\n",
       "      <td>7.17</td>\n",
       "      <td>2.83</td>\n",
       "      <td>73</td>\n",
       "      <td>20.0</td>\n",
       "      <td>98.99</td>\n",
       "      <td>NaN</td>\n",
       "      <td>8310.0</td>\n",
       "      <td>98.2</td>\n",
       "      <td>96.4</td>\n",
       "    </tr>\n",
       "    <tr>\n",
       "      <th>3</th>\n",
       "      <td>Andorra</td>\n",
       "      <td>Europe</td>\n",
       "      <td>78</td>\n",
       "      <td>15.20</td>\n",
       "      <td>22.86</td>\n",
       "      <td>NaN</td>\n",
       "      <td>82</td>\n",
       "      <td>3.2</td>\n",
       "      <td>75.49</td>\n",
       "      <td>NaN</td>\n",
       "      <td>NaN</td>\n",
       "      <td>78.4</td>\n",
       "      <td>79.4</td>\n",
       "    </tr>\n",
       "    <tr>\n",
       "      <th>4</th>\n",
       "      <td>Angola</td>\n",
       "      <td>Africa</td>\n",
       "      <td>20821</td>\n",
       "      <td>47.58</td>\n",
       "      <td>3.84</td>\n",
       "      <td>6.10</td>\n",
       "      <td>51</td>\n",
       "      <td>163.5</td>\n",
       "      <td>48.38</td>\n",
       "      <td>70.1</td>\n",
       "      <td>5230.0</td>\n",
       "      <td>93.1</td>\n",
       "      <td>78.2</td>\n",
       "    </tr>\n",
       "    <tr>\n",
       "      <th>...</th>\n",
       "      <td>...</td>\n",
       "      <td>...</td>\n",
       "      <td>...</td>\n",
       "      <td>...</td>\n",
       "      <td>...</td>\n",
       "      <td>...</td>\n",
       "      <td>...</td>\n",
       "      <td>...</td>\n",
       "      <td>...</td>\n",
       "      <td>...</td>\n",
       "      <td>...</td>\n",
       "      <td>...</td>\n",
       "      <td>...</td>\n",
       "    </tr>\n",
       "    <tr>\n",
       "      <th>189</th>\n",
       "      <td>Venezuela (Bolivarian Republic of)</td>\n",
       "      <td>Americas</td>\n",
       "      <td>29955</td>\n",
       "      <td>28.84</td>\n",
       "      <td>9.17</td>\n",
       "      <td>2.44</td>\n",
       "      <td>75</td>\n",
       "      <td>15.3</td>\n",
       "      <td>97.78</td>\n",
       "      <td>NaN</td>\n",
       "      <td>12430.0</td>\n",
       "      <td>94.7</td>\n",
       "      <td>95.1</td>\n",
       "    </tr>\n",
       "    <tr>\n",
       "      <th>190</th>\n",
       "      <td>Viet Nam</td>\n",
       "      <td>Western Pacific</td>\n",
       "      <td>90796</td>\n",
       "      <td>22.87</td>\n",
       "      <td>9.32</td>\n",
       "      <td>1.79</td>\n",
       "      <td>75</td>\n",
       "      <td>23.0</td>\n",
       "      <td>143.39</td>\n",
       "      <td>93.2</td>\n",
       "      <td>3250.0</td>\n",
       "      <td>NaN</td>\n",
       "      <td>NaN</td>\n",
       "    </tr>\n",
       "    <tr>\n",
       "      <th>191</th>\n",
       "      <td>Yemen</td>\n",
       "      <td>Eastern Mediterranean</td>\n",
       "      <td>23852</td>\n",
       "      <td>40.72</td>\n",
       "      <td>4.54</td>\n",
       "      <td>4.35</td>\n",
       "      <td>64</td>\n",
       "      <td>60.0</td>\n",
       "      <td>47.05</td>\n",
       "      <td>63.9</td>\n",
       "      <td>2170.0</td>\n",
       "      <td>85.5</td>\n",
       "      <td>70.5</td>\n",
       "    </tr>\n",
       "    <tr>\n",
       "      <th>192</th>\n",
       "      <td>Zambia</td>\n",
       "      <td>Africa</td>\n",
       "      <td>14075</td>\n",
       "      <td>46.73</td>\n",
       "      <td>3.95</td>\n",
       "      <td>5.77</td>\n",
       "      <td>55</td>\n",
       "      <td>88.5</td>\n",
       "      <td>60.59</td>\n",
       "      <td>71.2</td>\n",
       "      <td>1490.0</td>\n",
       "      <td>91.4</td>\n",
       "      <td>93.9</td>\n",
       "    </tr>\n",
       "    <tr>\n",
       "      <th>193</th>\n",
       "      <td>Zimbabwe</td>\n",
       "      <td>Africa</td>\n",
       "      <td>13724</td>\n",
       "      <td>40.24</td>\n",
       "      <td>5.68</td>\n",
       "      <td>3.64</td>\n",
       "      <td>54</td>\n",
       "      <td>89.8</td>\n",
       "      <td>72.13</td>\n",
       "      <td>92.2</td>\n",
       "      <td>NaN</td>\n",
       "      <td>NaN</td>\n",
       "      <td>NaN</td>\n",
       "    </tr>\n",
       "  </tbody>\n",
       "</table>\n",
       "<p>194 rows × 13 columns</p>\n",
       "</div>"
      ],
      "text/plain": [
       "                                Country                 Region  Population  \\\n",
       "0                           Afghanistan  Eastern Mediterranean       29825   \n",
       "1                               Albania                 Europe        3162   \n",
       "2                               Algeria                 Africa       38482   \n",
       "3                               Andorra                 Europe          78   \n",
       "4                                Angola                 Africa       20821   \n",
       "..                                  ...                    ...         ...   \n",
       "189  Venezuela (Bolivarian Republic of)               Americas       29955   \n",
       "190                            Viet Nam        Western Pacific       90796   \n",
       "191                               Yemen  Eastern Mediterranean       23852   \n",
       "192                              Zambia                 Africa       14075   \n",
       "193                            Zimbabwe                 Africa       13724   \n",
       "\n",
       "     Under15  Over60  FertilityRate  LifeExpectancy  ChildMortality  \\\n",
       "0      47.42    3.82           5.40              60            98.5   \n",
       "1      21.33   14.93           1.75              74            16.7   \n",
       "2      27.42    7.17           2.83              73            20.0   \n",
       "3      15.20   22.86            NaN              82             3.2   \n",
       "4      47.58    3.84           6.10              51           163.5   \n",
       "..       ...     ...            ...             ...             ...   \n",
       "189    28.84    9.17           2.44              75            15.3   \n",
       "190    22.87    9.32           1.79              75            23.0   \n",
       "191    40.72    4.54           4.35              64            60.0   \n",
       "192    46.73    3.95           5.77              55            88.5   \n",
       "193    40.24    5.68           3.64              54            89.8   \n",
       "\n",
       "     CellularSubscribers  LiteracyRate      GNI  PrimarySchoolEnrollmentMale  \\\n",
       "0                  54.26           NaN   1140.0                          NaN   \n",
       "1                  96.39           NaN   8820.0                          NaN   \n",
       "2                  98.99           NaN   8310.0                         98.2   \n",
       "3                  75.49           NaN      NaN                         78.4   \n",
       "4                  48.38          70.1   5230.0                         93.1   \n",
       "..                   ...           ...      ...                          ...   \n",
       "189                97.78           NaN  12430.0                         94.7   \n",
       "190               143.39          93.2   3250.0                          NaN   \n",
       "191                47.05          63.9   2170.0                         85.5   \n",
       "192                60.59          71.2   1490.0                         91.4   \n",
       "193                72.13          92.2      NaN                          NaN   \n",
       "\n",
       "     PrimarySchoolEnrollmentFemale  \n",
       "0                              NaN  \n",
       "1                              NaN  \n",
       "2                             96.4  \n",
       "3                             79.4  \n",
       "4                             78.2  \n",
       "..                             ...  \n",
       "189                           95.1  \n",
       "190                            NaN  \n",
       "191                           70.5  \n",
       "192                           93.9  \n",
       "193                            NaN  \n",
       "\n",
       "[194 rows x 13 columns]"
      ]
     },
     "execution_count": 2,
     "metadata": {},
     "output_type": "execute_result"
    }
   ],
   "source": [
    "df = pd.read_csv('../Datasets/data.csv')\n",
    "df"
   ]
  },
  {
   "cell_type": "markdown",
   "metadata": {},
   "source": [
    "## Missing values in the data set"
   ]
  },
  {
   "cell_type": "markdown",
   "metadata": {},
   "source": [
    "We are going to be checking for missing values in the data set."
   ]
  },
  {
   "cell_type": "code",
   "execution_count": 3,
   "metadata": {},
   "outputs": [
    {
     "data": {
      "text/plain": [
       "Country                           0\n",
       "Region                            0\n",
       "Population                        0\n",
       "Under15                           0\n",
       "Over60                            0\n",
       "FertilityRate                    11\n",
       "LifeExpectancy                    0\n",
       "ChildMortality                    0\n",
       "CellularSubscribers              10\n",
       "LiteracyRate                     91\n",
       "GNI                              32\n",
       "PrimarySchoolEnrollmentMale      93\n",
       "PrimarySchoolEnrollmentFemale    93\n",
       "dtype: int64"
      ]
     },
     "execution_count": 3,
     "metadata": {},
     "output_type": "execute_result"
    }
   ],
   "source": [
    "df.isnull().sum()"
   ]
  },
  {
   "attachments": {},
   "cell_type": "markdown",
   "metadata": {},
   "source": [
    "By using isnull() method, it returns a dataFrame object where all the values are replaced with a Boolean value True for NULL values, and otherwise False. We would like to know how many values are missing in each column and therefore we made use of df.isnull().sum to sum up every missing value in each column from above we notice that:\n",
    "- For Fertility rate there is 11 missing values\n",
    "- In CellularSubscribers there is 10 missing values\n",
    "- For Literacy rate there is 91 missing values\n",
    "- GNI is missing 32 values \n",
    "- PrimarySchoolEnrollmentMale is missing 93 values\n",
    "- PrimarySchoolEnrollmentFemale is missing 93 values"
   ]
  },
  {
   "cell_type": "code",
   "execution_count": 4,
   "metadata": {},
   "outputs": [
    {
     "name": "stdout",
     "output_type": "stream",
     "text": [
      "<class 'pandas.core.frame.DataFrame'>\n",
      "RangeIndex: 194 entries, 0 to 193\n",
      "Data columns (total 13 columns):\n",
      " #   Column                         Non-Null Count  Dtype  \n",
      "---  ------                         --------------  -----  \n",
      " 0   Country                        194 non-null    object \n",
      " 1   Region                         194 non-null    object \n",
      " 2   Population                     194 non-null    int64  \n",
      " 3   Under15                        194 non-null    float64\n",
      " 4   Over60                         194 non-null    float64\n",
      " 5   FertilityRate                  183 non-null    float64\n",
      " 6   LifeExpectancy                 194 non-null    int64  \n",
      " 7   ChildMortality                 194 non-null    float64\n",
      " 8   CellularSubscribers            184 non-null    float64\n",
      " 9   LiteracyRate                   103 non-null    float64\n",
      " 10  GNI                            162 non-null    float64\n",
      " 11  PrimarySchoolEnrollmentMale    101 non-null    float64\n",
      " 12  PrimarySchoolEnrollmentFemale  101 non-null    float64\n",
      "dtypes: float64(9), int64(2), object(2)\n",
      "memory usage: 19.8+ KB\n"
     ]
    }
   ],
   "source": [
    "df.info()"
   ]
  },
  {
   "attachments": {},
   "cell_type": "markdown",
   "metadata": {},
   "source": [
    "We use the info() function to print the full summary of the data frame and the different Data types we have in the data set."
   ]
  },
  {
   "cell_type": "markdown",
   "metadata": {},
   "source": [
    "## Fixing other problems with the dataset."
   ]
  },
  {
   "cell_type": "markdown",
   "metadata": {},
   "source": [
    "Below we use drop() to drop the columns that we will not be using."
   ]
  },
  {
   "cell_type": "code",
   "execution_count": 5,
   "metadata": {},
   "outputs": [
    {
     "data": {
      "text/html": [
       "<div>\n",
       "<style scoped>\n",
       "    .dataframe tbody tr th:only-of-type {\n",
       "        vertical-align: middle;\n",
       "    }\n",
       "\n",
       "    .dataframe tbody tr th {\n",
       "        vertical-align: top;\n",
       "    }\n",
       "\n",
       "    .dataframe thead th {\n",
       "        text-align: right;\n",
       "    }\n",
       "</style>\n",
       "<table border=\"1\" class=\"dataframe\">\n",
       "  <thead>\n",
       "    <tr style=\"text-align: right;\">\n",
       "      <th></th>\n",
       "      <th>Country</th>\n",
       "      <th>Region</th>\n",
       "      <th>Population</th>\n",
       "      <th>Under15</th>\n",
       "      <th>Over60</th>\n",
       "      <th>FertilityRate</th>\n",
       "      <th>LifeExpectancy</th>\n",
       "      <th>ChildMortality</th>\n",
       "      <th>LiteracyRate</th>\n",
       "      <th>GNI</th>\n",
       "    </tr>\n",
       "  </thead>\n",
       "  <tbody>\n",
       "    <tr>\n",
       "      <th>0</th>\n",
       "      <td>Afghanistan</td>\n",
       "      <td>Eastern Mediterranean</td>\n",
       "      <td>29825</td>\n",
       "      <td>47.42</td>\n",
       "      <td>3.82</td>\n",
       "      <td>5.40</td>\n",
       "      <td>60</td>\n",
       "      <td>98.5</td>\n",
       "      <td>NaN</td>\n",
       "      <td>1140.0</td>\n",
       "    </tr>\n",
       "    <tr>\n",
       "      <th>1</th>\n",
       "      <td>Albania</td>\n",
       "      <td>Europe</td>\n",
       "      <td>3162</td>\n",
       "      <td>21.33</td>\n",
       "      <td>14.93</td>\n",
       "      <td>1.75</td>\n",
       "      <td>74</td>\n",
       "      <td>16.7</td>\n",
       "      <td>NaN</td>\n",
       "      <td>8820.0</td>\n",
       "    </tr>\n",
       "    <tr>\n",
       "      <th>2</th>\n",
       "      <td>Algeria</td>\n",
       "      <td>Africa</td>\n",
       "      <td>38482</td>\n",
       "      <td>27.42</td>\n",
       "      <td>7.17</td>\n",
       "      <td>2.83</td>\n",
       "      <td>73</td>\n",
       "      <td>20.0</td>\n",
       "      <td>NaN</td>\n",
       "      <td>8310.0</td>\n",
       "    </tr>\n",
       "    <tr>\n",
       "      <th>3</th>\n",
       "      <td>Andorra</td>\n",
       "      <td>Europe</td>\n",
       "      <td>78</td>\n",
       "      <td>15.20</td>\n",
       "      <td>22.86</td>\n",
       "      <td>NaN</td>\n",
       "      <td>82</td>\n",
       "      <td>3.2</td>\n",
       "      <td>NaN</td>\n",
       "      <td>NaN</td>\n",
       "    </tr>\n",
       "    <tr>\n",
       "      <th>4</th>\n",
       "      <td>Angola</td>\n",
       "      <td>Africa</td>\n",
       "      <td>20821</td>\n",
       "      <td>47.58</td>\n",
       "      <td>3.84</td>\n",
       "      <td>6.10</td>\n",
       "      <td>51</td>\n",
       "      <td>163.5</td>\n",
       "      <td>70.1</td>\n",
       "      <td>5230.0</td>\n",
       "    </tr>\n",
       "  </tbody>\n",
       "</table>\n",
       "</div>"
      ],
      "text/plain": [
       "       Country                 Region  Population  Under15  Over60  \\\n",
       "0  Afghanistan  Eastern Mediterranean       29825    47.42    3.82   \n",
       "1      Albania                 Europe        3162    21.33   14.93   \n",
       "2      Algeria                 Africa       38482    27.42    7.17   \n",
       "3      Andorra                 Europe          78    15.20   22.86   \n",
       "4       Angola                 Africa       20821    47.58    3.84   \n",
       "\n",
       "   FertilityRate  LifeExpectancy  ChildMortality  LiteracyRate     GNI  \n",
       "0           5.40              60            98.5           NaN  1140.0  \n",
       "1           1.75              74            16.7           NaN  8820.0  \n",
       "2           2.83              73            20.0           NaN  8310.0  \n",
       "3            NaN              82             3.2           NaN     NaN  \n",
       "4           6.10              51           163.5          70.1  5230.0  "
      ]
     },
     "execution_count": 5,
     "metadata": {},
     "output_type": "execute_result"
    }
   ],
   "source": [
    "df = df.drop(['CellularSubscribers', 'PrimarySchoolEnrollmentMale', 'PrimarySchoolEnrollmentFemale'], axis=1)\n",
    "df.head()"
   ]
  },
  {
   "cell_type": "markdown",
   "metadata": {},
   "source": [
    "We are going to use the skew() method which calculates the skewness for each column. Skewness is a measure of the asymmetry of the probability distribution of a real-valued random variable about its mean. "
   ]
  },
  {
   "cell_type": "code",
   "execution_count": 6,
   "metadata": {},
   "outputs": [
    {
     "name": "stdout",
     "output_type": "stream",
     "text": [
      "Population        8.516265\n",
      "Under15           0.208951\n",
      "Over60            0.860879\n",
      "FertilityRate     0.994529\n",
      "LifeExpectancy   -0.672055\n",
      "ChildMortality    1.459737\n",
      "LiteracyRate     -1.148555\n",
      "GNI               1.874357\n",
      "dtype: float64\n"
     ]
    }
   ],
   "source": [
    "print(df.skew())"
   ]
  },
  {
   "attachments": {},
   "cell_type": "markdown",
   "metadata": {},
   "source": [
    "From the above output, the skewness value of 0 denotes a symmetrical distribution of values, a negative skewness value in the output indicates an asymmetry in the distribution that being for life expectancy and literacy rate, and a positive skewness value in the output indicates an asymmetry in the distribution."
   ]
  },
  {
   "cell_type": "markdown",
   "metadata": {},
   "source": [
    "**Other problems in the data set**"
   ]
  },
  {
   "cell_type": "markdown",
   "metadata": {},
   "source": [
    "We have missing values in the data set."
   ]
  },
  {
   "cell_type": "code",
   "execution_count": 7,
   "metadata": {},
   "outputs": [
    {
     "data": {
      "text/html": [
       "<div>\n",
       "<style scoped>\n",
       "    .dataframe tbody tr th:only-of-type {\n",
       "        vertical-align: middle;\n",
       "    }\n",
       "\n",
       "    .dataframe tbody tr th {\n",
       "        vertical-align: top;\n",
       "    }\n",
       "\n",
       "    .dataframe thead th {\n",
       "        text-align: right;\n",
       "    }\n",
       "</style>\n",
       "<table border=\"1\" class=\"dataframe\">\n",
       "  <thead>\n",
       "    <tr style=\"text-align: right;\">\n",
       "      <th></th>\n",
       "      <th>Country</th>\n",
       "      <th>Region</th>\n",
       "      <th>Population</th>\n",
       "      <th>Under15</th>\n",
       "      <th>Over60</th>\n",
       "      <th>FertilityRate</th>\n",
       "      <th>LifeExpectancy</th>\n",
       "      <th>ChildMortality</th>\n",
       "      <th>LiteracyRate</th>\n",
       "      <th>GNI</th>\n",
       "    </tr>\n",
       "  </thead>\n",
       "  <tbody>\n",
       "    <tr>\n",
       "      <th>0</th>\n",
       "      <td>Afghanistan</td>\n",
       "      <td>Eastern Mediterranean</td>\n",
       "      <td>29825</td>\n",
       "      <td>47.42</td>\n",
       "      <td>3.82</td>\n",
       "      <td>5.40</td>\n",
       "      <td>60</td>\n",
       "      <td>98.5</td>\n",
       "      <td>91.8</td>\n",
       "      <td>1140.0</td>\n",
       "    </tr>\n",
       "    <tr>\n",
       "      <th>1</th>\n",
       "      <td>Albania</td>\n",
       "      <td>Europe</td>\n",
       "      <td>3162</td>\n",
       "      <td>21.33</td>\n",
       "      <td>14.93</td>\n",
       "      <td>1.75</td>\n",
       "      <td>74</td>\n",
       "      <td>16.7</td>\n",
       "      <td>91.8</td>\n",
       "      <td>8820.0</td>\n",
       "    </tr>\n",
       "    <tr>\n",
       "      <th>2</th>\n",
       "      <td>Algeria</td>\n",
       "      <td>Africa</td>\n",
       "      <td>38482</td>\n",
       "      <td>27.42</td>\n",
       "      <td>7.17</td>\n",
       "      <td>2.83</td>\n",
       "      <td>73</td>\n",
       "      <td>20.0</td>\n",
       "      <td>91.8</td>\n",
       "      <td>8310.0</td>\n",
       "    </tr>\n",
       "    <tr>\n",
       "      <th>3</th>\n",
       "      <td>Andorra</td>\n",
       "      <td>Europe</td>\n",
       "      <td>78</td>\n",
       "      <td>15.20</td>\n",
       "      <td>22.86</td>\n",
       "      <td>2.40</td>\n",
       "      <td>82</td>\n",
       "      <td>3.2</td>\n",
       "      <td>91.8</td>\n",
       "      <td>7870.0</td>\n",
       "    </tr>\n",
       "    <tr>\n",
       "      <th>4</th>\n",
       "      <td>Angola</td>\n",
       "      <td>Africa</td>\n",
       "      <td>20821</td>\n",
       "      <td>47.58</td>\n",
       "      <td>3.84</td>\n",
       "      <td>6.10</td>\n",
       "      <td>51</td>\n",
       "      <td>163.5</td>\n",
       "      <td>70.1</td>\n",
       "      <td>5230.0</td>\n",
       "    </tr>\n",
       "  </tbody>\n",
       "</table>\n",
       "</div>"
      ],
      "text/plain": [
       "       Country                 Region  Population  Under15  Over60  \\\n",
       "0  Afghanistan  Eastern Mediterranean       29825    47.42    3.82   \n",
       "1      Albania                 Europe        3162    21.33   14.93   \n",
       "2      Algeria                 Africa       38482    27.42    7.17   \n",
       "3      Andorra                 Europe          78    15.20   22.86   \n",
       "4       Angola                 Africa       20821    47.58    3.84   \n",
       "\n",
       "   FertilityRate  LifeExpectancy  ChildMortality  LiteracyRate     GNI  \n",
       "0           5.40              60            98.5          91.8  1140.0  \n",
       "1           1.75              74            16.7          91.8  8820.0  \n",
       "2           2.83              73            20.0          91.8  8310.0  \n",
       "3           2.40              82             3.2          91.8  7870.0  \n",
       "4           6.10              51           163.5          70.1  5230.0  "
      ]
     },
     "execution_count": 7,
     "metadata": {},
     "output_type": "execute_result"
    }
   ],
   "source": [
    "LiteracyRate = df['LiteracyRate'].median()\n",
    "df['LiteracyRate'].fillna(LiteracyRate, inplace=True)\n",
    "\n",
    "FertilityRate = df['FertilityRate'].median()\n",
    "df['FertilityRate'].fillna(FertilityRate, inplace=True)\n",
    "\n",
    "GNI = df['GNI'].median()\n",
    "df['GNI'].fillna(GNI, inplace=True) \n",
    "\n",
    "df.head()"
   ]
  },
  {
   "attachments": {},
   "cell_type": "markdown",
   "metadata": {},
   "source": [
    "To deal with the missing values, we replaced these values using the median() as it ignores the influence of outliers and updates the middle value that occurred in that column."
   ]
  },
  {
   "cell_type": "markdown",
   "metadata": {},
   "source": [
    "# Exploratory data analysis"
   ]
  },
  {
   "cell_type": "markdown",
   "metadata": {},
   "source": [
    "**The country with the lowest % of their population under 15**"
   ]
  },
  {
   "cell_type": "code",
   "execution_count": 8,
   "metadata": {},
   "outputs": [
    {
     "data": {
      "text/html": [
       "<div>\n",
       "<style scoped>\n",
       "    .dataframe tbody tr th:only-of-type {\n",
       "        vertical-align: middle;\n",
       "    }\n",
       "\n",
       "    .dataframe tbody tr th {\n",
       "        vertical-align: top;\n",
       "    }\n",
       "\n",
       "    .dataframe thead th {\n",
       "        text-align: right;\n",
       "    }\n",
       "</style>\n",
       "<table border=\"1\" class=\"dataframe\">\n",
       "  <thead>\n",
       "    <tr style=\"text-align: right;\">\n",
       "      <th></th>\n",
       "      <th>Country</th>\n",
       "      <th>Under15</th>\n",
       "    </tr>\n",
       "  </thead>\n",
       "  <tbody>\n",
       "    <tr>\n",
       "      <th>85</th>\n",
       "      <td>Japan</td>\n",
       "      <td>13.12</td>\n",
       "    </tr>\n",
       "  </tbody>\n",
       "</table>\n",
       "</div>"
      ],
      "text/plain": [
       "   Country  Under15\n",
       "85   Japan    13.12"
      ]
     },
     "execution_count": 8,
     "metadata": {},
     "output_type": "execute_result"
    }
   ],
   "source": [
    "low_percent = df['Under15'].min()\n",
    "df.loc[df['Under15'] == low_percent,['Country','Under15']]"
   ]
  },
  {
   "cell_type": "markdown",
   "metadata": {},
   "source": [
    "Japan has the lowest % of their population under 15."
   ]
  },
  {
   "cell_type": "markdown",
   "metadata": {},
   "source": [
    "**The country with the highest % of their population under 15.**"
   ]
  },
  {
   "cell_type": "code",
   "execution_count": 9,
   "metadata": {},
   "outputs": [
    {
     "data": {
      "text/html": [
       "<div>\n",
       "<style scoped>\n",
       "    .dataframe tbody tr th:only-of-type {\n",
       "        vertical-align: middle;\n",
       "    }\n",
       "\n",
       "    .dataframe tbody tr th {\n",
       "        vertical-align: top;\n",
       "    }\n",
       "\n",
       "    .dataframe thead th {\n",
       "        text-align: right;\n",
       "    }\n",
       "</style>\n",
       "<table border=\"1\" class=\"dataframe\">\n",
       "  <thead>\n",
       "    <tr style=\"text-align: right;\">\n",
       "      <th></th>\n",
       "      <th>Country</th>\n",
       "      <th>Under15</th>\n",
       "    </tr>\n",
       "  </thead>\n",
       "  <tbody>\n",
       "    <tr>\n",
       "      <th>123</th>\n",
       "      <td>Niger</td>\n",
       "      <td>49.99</td>\n",
       "    </tr>\n",
       "  </tbody>\n",
       "</table>\n",
       "</div>"
      ],
      "text/plain": [
       "    Country  Under15\n",
       "123   Niger    49.99"
      ]
     },
     "execution_count": 9,
     "metadata": {},
     "output_type": "execute_result"
    }
   ],
   "source": [
    "high_percent = df['Under15'].max()\n",
    "df.loc[df['Under15'] == high_percent,['Country','Under15']]"
   ]
  },
  {
   "cell_type": "markdown",
   "metadata": {},
   "source": [
    "Niger has the highest % of their population under 15."
   ]
  },
  {
   "cell_type": "markdown",
   "metadata": {},
   "source": [
    "**The region with the highest percentage of their population over 60.**"
   ]
  },
  {
   "cell_type": "code",
   "execution_count": 10,
   "metadata": {},
   "outputs": [
    {
     "data": {
      "text/html": [
       "<div>\n",
       "<style scoped>\n",
       "    .dataframe tbody tr th:only-of-type {\n",
       "        vertical-align: middle;\n",
       "    }\n",
       "\n",
       "    .dataframe tbody tr th {\n",
       "        vertical-align: top;\n",
       "    }\n",
       "\n",
       "    .dataframe thead th {\n",
       "        text-align: right;\n",
       "    }\n",
       "</style>\n",
       "<table border=\"1\" class=\"dataframe\">\n",
       "  <thead>\n",
       "    <tr style=\"text-align: right;\">\n",
       "      <th></th>\n",
       "      <th>Country</th>\n",
       "      <th>Over60</th>\n",
       "    </tr>\n",
       "  </thead>\n",
       "  <tbody>\n",
       "    <tr>\n",
       "      <th>85</th>\n",
       "      <td>Japan</td>\n",
       "      <td>31.92</td>\n",
       "    </tr>\n",
       "  </tbody>\n",
       "</table>\n",
       "</div>"
      ],
      "text/plain": [
       "   Country  Over60\n",
       "85   Japan   31.92"
      ]
     },
     "execution_count": 10,
     "metadata": {},
     "output_type": "execute_result"
    }
   ],
   "source": [
    "data = df['Over60'].max()\n",
    "\n",
    "df.loc[df['Over60']==data,['Country','Over60']] "
   ]
  },
  {
   "cell_type": "markdown",
   "metadata": {},
   "source": [
    "Japan has the highest % of their population over 60."
   ]
  },
  {
   "cell_type": "markdown",
   "metadata": {},
   "source": [
    "#### Fertility rate against income(GNI) "
   ]
  },
  {
   "cell_type": "code",
   "execution_count": 11,
   "metadata": {},
   "outputs": [
    {
     "name": "stdout",
     "output_type": "stream",
     "text": [
      "                Population   Under15    Over60  FertilityRate  LifeExpectancy  \\\n",
      "Population        1.000000 -0.059634  0.011693      -0.069092        0.016277   \n",
      "Under15          -0.059634  1.000000 -0.829390       0.926937       -0.836467   \n",
      "Over60            0.011693 -0.829390  1.000000      -0.683791        0.688129   \n",
      "FertilityRate    -0.069092  0.926937 -0.683791       1.000000       -0.827571   \n",
      "LifeExpectancy    0.016277 -0.836467  0.688129      -0.827571        1.000000   \n",
      "ChildMortality   -0.003675  0.815076 -0.624303       0.862240       -0.924564   \n",
      "LiteracyRate      0.031954 -0.616491  0.438608      -0.659896        0.594304   \n",
      "GNI              -0.019396 -0.624864  0.575787      -0.496208        0.595299   \n",
      "\n",
      "                ChildMortality  LiteracyRate       GNI  \n",
      "Population           -0.003675      0.031954 -0.019396  \n",
      "Under15               0.815076     -0.616491 -0.624864  \n",
      "Over60               -0.624303      0.438608  0.575787  \n",
      "FertilityRate         0.862240     -0.659896 -0.496208  \n",
      "LifeExpectancy       -0.924564      0.594304  0.595299  \n",
      "ChildMortality        1.000000     -0.652011 -0.491713  \n",
      "LiteracyRate         -0.652011      1.000000  0.328890  \n",
      "GNI                  -0.491713      0.328890  1.000000  \n"
     ]
    }
   ],
   "source": [
    "print(df.corr())"
   ]
  },
  {
   "cell_type": "markdown",
   "metadata": {},
   "source": [
    "Above we used the corr() method which calculates the relationship between each column in your data set."
   ]
  },
  {
   "cell_type": "markdown",
   "metadata": {},
   "source": [
    "Use a scatter plot to find the relationship between two variables in this case fertility and income."
   ]
  },
  {
   "cell_type": "code",
   "execution_count": 12,
   "metadata": {},
   "outputs": [
    {
     "name": "stdout",
     "output_type": "stream",
     "text": [
      "The Correlation efficient for fertility rate and the GNI is:  -0.49620832062306547\n",
      "Fertility decreases as income increases - the two have a negative correlation.\n"
     ]
    },
    {
     "data": {
      "image/png": "[encoded data removed]",
      "text/plain": [
       "<Figure size 1080x720 with 1 Axes>"
      ]
     },
     "metadata": {
      "needs_background": "light"
     },
     "output_type": "display_data"
    }
   ],
   "source": [
    "corr = df.FertilityRate.corr(df.GNI)\n",
    "print(\"The Correlation efficient for fertility rate and the GNI is: \", corr)\n",
    "print('Fertility decreases as income increases - the two have a negative correlation.')\n",
    "\n",
    "plt.figure(figsize=(15, 10))\n",
    "plt.scatter(df.FertilityRate, df.GNI)\n",
    "plt.title(\"Fertility rate against GNI(Income)\", fontsize=20, fontweight='bold')\n",
    "plt.xlabel(\"FertilityRate\", fontweight='bold')\n",
    "plt.ylabel(\"GNI\", fontweight='bold')\n",
    "\n",
    "plt.show()"
   ]
  },
  {
   "cell_type": "markdown",
   "metadata": {},
   "source": [
    "The data shows a downhill pattern as you move from left to right, this indicates a negative relationship between FertilityRate and GNI(income). As Fertility rate values increase the GNI values tend to decrease and as Fertility decreases the income increases."
   ]
  },
  {
   "cell_type": "markdown",
   "metadata": {},
   "source": [
    "**Regions with lowest literacy rates**"
   ]
  },
  {
   "cell_type": "markdown",
   "metadata": {},
   "source": [
    "We are then going to find out which region has the lowest literacy rate."
   ]
  },
  {
   "cell_type": "code",
   "execution_count": 13,
   "metadata": {},
   "outputs": [
    {
     "data": {
      "text/html": [
       "<div>\n",
       "<style scoped>\n",
       "    .dataframe tbody tr th:only-of-type {\n",
       "        vertical-align: middle;\n",
       "    }\n",
       "\n",
       "    .dataframe tbody tr th {\n",
       "        vertical-align: top;\n",
       "    }\n",
       "\n",
       "    .dataframe thead th {\n",
       "        text-align: right;\n",
       "    }\n",
       "</style>\n",
       "<table border=\"1\" class=\"dataframe\">\n",
       "  <thead>\n",
       "    <tr style=\"text-align: right;\">\n",
       "      <th></th>\n",
       "      <th>LiteracyRate</th>\n",
       "    </tr>\n",
       "    <tr>\n",
       "      <th>Region</th>\n",
       "      <th></th>\n",
       "    </tr>\n",
       "  </thead>\n",
       "  <tbody>\n",
       "    <tr>\n",
       "      <th>Africa</th>\n",
       "      <td>31.1</td>\n",
       "    </tr>\n",
       "    <tr>\n",
       "      <th>Americas</th>\n",
       "      <td>75.2</td>\n",
       "    </tr>\n",
       "    <tr>\n",
       "      <th>Eastern Mediterranean</th>\n",
       "      <td>63.9</td>\n",
       "    </tr>\n",
       "    <tr>\n",
       "      <th>Europe</th>\n",
       "      <td>91.8</td>\n",
       "    </tr>\n",
       "    <tr>\n",
       "      <th>South-East Asia</th>\n",
       "      <td>56.8</td>\n",
       "    </tr>\n",
       "    <tr>\n",
       "      <th>Western Pacific</th>\n",
       "      <td>60.6</td>\n",
       "    </tr>\n",
       "  </tbody>\n",
       "</table>\n",
       "</div>"
      ],
      "text/plain": [
       "                       LiteracyRate\n",
       "Region                             \n",
       "Africa                         31.1\n",
       "Americas                       75.2\n",
       "Eastern Mediterranean          63.9\n",
       "Europe                         91.8\n",
       "South-East Asia                56.8\n",
       "Western Pacific                60.6"
      ]
     },
     "execution_count": 13,
     "metadata": {},
     "output_type": "execute_result"
    }
   ],
   "source": [
    "literacy_rates = df[[\"Region\", \"LiteracyRate\"]]\n",
    "literacy_rates.groupby('Region').min()"
   ]
  },
  {
   "cell_type": "markdown",
   "metadata": {},
   "source": [
    "South-East Asia and Africa are the regions which have the lowest literacy rates."
   ]
  },
  {
   "cell_type": "markdown",
   "metadata": {},
   "source": [
    "**Regions with the lowest child mortality rate**"
   ]
  },
  {
   "cell_type": "markdown",
   "metadata": {},
   "source": [
    "We will figure out which regions have the lowest child mortality rate."
   ]
  },
  {
   "cell_type": "code",
   "execution_count": 14,
   "metadata": {},
   "outputs": [
    {
     "data": {
      "text/html": [
       "<div>\n",
       "<style scoped>\n",
       "    .dataframe tbody tr th:only-of-type {\n",
       "        vertical-align: middle;\n",
       "    }\n",
       "\n",
       "    .dataframe tbody tr th {\n",
       "        vertical-align: top;\n",
       "    }\n",
       "\n",
       "    .dataframe thead th {\n",
       "        text-align: right;\n",
       "    }\n",
       "</style>\n",
       "<table border=\"1\" class=\"dataframe\">\n",
       "  <thead>\n",
       "    <tr style=\"text-align: right;\">\n",
       "      <th></th>\n",
       "      <th>ChildMortality</th>\n",
       "    </tr>\n",
       "    <tr>\n",
       "      <th>Region</th>\n",
       "      <th></th>\n",
       "    </tr>\n",
       "  </thead>\n",
       "  <tbody>\n",
       "    <tr>\n",
       "      <th>Africa</th>\n",
       "      <td>13.1</td>\n",
       "    </tr>\n",
       "    <tr>\n",
       "      <th>Americas</th>\n",
       "      <td>5.3</td>\n",
       "    </tr>\n",
       "    <tr>\n",
       "      <th>Eastern Mediterranean</th>\n",
       "      <td>7.4</td>\n",
       "    </tr>\n",
       "    <tr>\n",
       "      <th>Europe</th>\n",
       "      <td>2.2</td>\n",
       "    </tr>\n",
       "    <tr>\n",
       "      <th>South-East Asia</th>\n",
       "      <td>9.6</td>\n",
       "    </tr>\n",
       "    <tr>\n",
       "      <th>Western Pacific</th>\n",
       "      <td>2.9</td>\n",
       "    </tr>\n",
       "  </tbody>\n",
       "</table>\n",
       "</div>"
      ],
      "text/plain": [
       "                       ChildMortality\n",
       "Region                               \n",
       "Africa                           13.1\n",
       "Americas                          5.3\n",
       "Eastern Mediterranean             7.4\n",
       "Europe                            2.2\n",
       "South-East Asia                   9.6\n",
       "Western Pacific                   2.9"
      ]
     },
     "execution_count": 14,
     "metadata": {},
     "output_type": "execute_result"
    }
   ],
   "source": [
    "child_mortality_rate = df[['Region', 'ChildMortality']]\n",
    "child_mortality_rate.groupby('Region').min()"
   ]
  },
  {
   "cell_type": "markdown",
   "metadata": {},
   "source": [
    "South-East Asia and Europe have the lowest child mortality rates."
   ]
  },
  {
   "cell_type": "markdown",
   "metadata": {},
   "source": [
    "**How the life expectancy across the different regions is shown using box-and-whisker plot.**"
   ]
  },
  {
   "cell_type": "code",
   "execution_count": 15,
   "metadata": {},
   "outputs": [
    {
     "data": {
      "text/plain": [
       "[]"
      ]
     },
     "execution_count": 15,
     "metadata": {},
     "output_type": "execute_result"
    },
    {
     "data": {
      "image/png": "[encoded data removed]",
      "text/plain": [
       "<Figure size 1080x720 with 1 Axes>"
      ]
     },
     "metadata": {
      "needs_background": "light"
     },
     "output_type": "display_data"
    }
   ],
   "source": [
    "boxplot = df.boxplot(column=['LifeExpectancy'], by='Region', grid=True, rot=45, fontsize=20, figsize=(15, 10))\n",
    "plt.title(\"Life Expectancy across different regions\", fontsize=20, fontweight='bold')\n",
    "plt.xlabel(\"Region\", fontweight='bold')\n",
    "plt.ylabel(\"LifeExpectancy\", fontweight='bold')\n",
    "boxplot.plot()"
   ]
  },
  {
   "attachments": {},
   "cell_type": "markdown",
   "metadata": {},
   "source": [
    "From the graph above, we can conclude that people in Africa have the least life expectancy with the median being around 57, and the lower quartile being below 53 making it the Region with the lowest life expectancy. While people from Europe have the most life expectancy with the median being 77 and the upper quartile being over 82. "
   ]
  },
  {
   "cell_type": "markdown",
   "metadata": {},
   "source": [
    "**How life expectancy is related to wealth across different regions**"
   ]
  },
  {
   "cell_type": "code",
   "execution_count": 16,
   "metadata": {},
   "outputs": [
    {
     "name": "stdout",
     "output_type": "stream",
     "text": [
      "0.5952986751901821\n",
      "There is a positive relationship between Life Expectancy and Wealth across all regions.\n"
     ]
    },
    {
     "data": {
      "image/png": "[encoded data removed]",
      "text/plain": [
       "<Figure size 1080x720 with 1 Axes>"
      ]
     },
     "metadata": {
      "needs_background": "light"
     },
     "output_type": "display_data"
    }
   ],
   "source": [
    "GNI_corr = (df.LifeExpectancy.corr(df.GNI))\n",
    "print(GNI_corr)\n",
    "print(\"There is a positive relationship between Life Expectancy and Wealth across all regions.\")\n",
    "\n",
    "plt.figure(figsize=(15, 10))\n",
    "sns.scatterplot(df.LifeExpectancy, df.GNI, hue='Region', alpha=0.5, data=df)\n",
    "plt.title('Relationship Between Life Expectancy & Wealth Across Different Regions', fontweight='bold')\n",
    "plt.xlabel('Life Expectancy', fontweight='bold')\n",
    "plt.ylabel('Wealth', fontweight='bold')\n",
    "plt.show()"
   ]
  },
  {
   "attachments": {},
   "cell_type": "markdown",
   "metadata": {},
   "source": [
    "There is a positive relationship between Life expectancy and wealth across all regions, when one increases the other also increases. Life expectancy increases with wealth which could mean that the healthcare systems in wealthy regions such as Europe are more accessible to people and more advanced compared to Africa which has a lower life expectancy than any other region."
   ]
  },
  {
   "cell_type": "markdown",
   "metadata": {},
   "source": [
    "**The relationship between Fertility and wealth**"
   ]
  },
  {
   "cell_type": "code",
   "execution_count": 17,
   "metadata": {},
   "outputs": [
    {
     "name": "stdout",
     "output_type": "stream",
     "text": [
      "-0.49620832062306547\n",
      "There is a negative relationship between Fertility and Wealth across all regions.\n"
     ]
    },
    {
     "data": {
      "image/png": "[encoded data removed]",
      "text/plain": [
       "<Figure size 1080x720 with 1 Axes>"
      ]
     },
     "metadata": {
      "needs_background": "light"
     },
     "output_type": "display_data"
    }
   ],
   "source": [
    "wealth_fertility_corr = (df.FertilityRate.corr(df.GNI))\n",
    "print(wealth_fertility_corr)\n",
    "print(\"There is a negative relationship between Fertility and Wealth across all regions.\")\n",
    "\n",
    "plt.figure(figsize=(15, 10))\n",
    "sns.scatterplot(df.FertilityRate, df.GNI, hue='Region', alpha=0.5, data=df)\n",
    "plt.title('Relationship Between Fertility & Wealth Across Different Regions', fontweight='bold')\n",
    "plt.ylabel('Wealth', fontweight='bold')\n",
    "plt.xlabel('Fertility', fontweight='bold')\n",
    "plt.show()"
   ]
  },
  {
   "cell_type": "markdown",
   "metadata": {},
   "source": [
    "There is a negative relationship between Fertility and Wealth across all regions. When one increases, the other decreases."
   ]
  },
  {
   "cell_type": "markdown",
   "metadata": {},
   "source": [
    "**Representing the relationship between literacy and life expectancy by region using the scatter plot.**"
   ]
  },
  {
   "cell_type": "code",
   "execution_count": 18,
   "metadata": {},
   "outputs": [
    {
     "name": "stdout",
     "output_type": "stream",
     "text": [
      "0.5943044561294527\n",
      "There is a positive relationship between Life Expectancy and Literacy across all regions.\n"
     ]
    },
    {
     "data": {
      "text/plain": [
       "Text(0, 0.5, 'LiteracyRate')"
      ]
     },
     "execution_count": 18,
     "metadata": {},
     "output_type": "execute_result"
    },
    {
     "data": {
      "image/png": "[encoded data removed]",
      "text/plain": [
       "<Figure size 1080x720 with 1 Axes>"
      ]
     },
     "metadata": {
      "needs_background": "light"
     },
     "output_type": "display_data"
    }
   ],
   "source": [
    "literacy_expectancy_corr = (df.LiteracyRate.corr(df.LifeExpectancy))\n",
    "print(literacy_expectancy_corr)\n",
    "print(\"There is a positive relationship between Life Expectancy and Literacy across all regions.\")\n",
    "\n",
    "plt.figure(figsize=(15, 10))\n",
    "sns.scatterplot(x='LifeExpectancy', y='LiteracyRate', hue='Region', data=df)\n",
    "plt.title('Relationship between life expectancy and LiteracyRate', fontsize=20, fontweight='bold')\n",
    "plt.xlabel(\"LifeExpectancy\", fontweight='bold')\n",
    "plt.ylabel(\"LiteracyRate\", fontweight='bold')"
   ]
  },
  {
   "attachments": {},
   "cell_type": "markdown",
   "metadata": {},
   "source": [
    "We can conclude that the higher the life expectancy, the more or higher the literacy rate, and vice versa. It is accurate because the graph shows all the possible or rather the relationship between life expectancy and literacy rate. In Africa, there is neither a positive nor negative correlation between life expectancy and literacy, we can say that there is a correlation of zero."
   ]
  },
  {
   "cell_type": "markdown",
   "metadata": {},
   "source": [
    "# Conclusion and insights"
   ]
  },
  {
   "cell_type": "markdown",
   "metadata": {},
   "source": [
    "From looking and after investigating the given data set, we can conclude that the Region Africa is less fortunate as it is shown in graphs that it is at the bottom when it comes to literacy rates and many other things. The scatter plot was mostly used in this investigation as we had to compare mostly two variables.\n",
    "\n",
    "1. We had missing values in our data set and we solved the missing values by using the mean(). We also dropped the columns which we did not use.\n",
    "\n",
    "2. Japan had the lowest percentage of their population under 15 while Niger had the highest percentage.\n",
    "\n",
    "3. Europe have highest population over 60.\n",
    "\n",
    "4. Fertility rate decrease when income increases in developed countries and some countries don't seem to follow the relation because they are still developing.\n",
    "\n",
    "5. Africa has the lowest literacy rate and Europe has the lowest child mortality rate across all the other regions.\n",
    "\n",
    "6. There is a strong correlation between life expectancy and wealth across different regions and there is a negative coorrelation between wealth and fertility across different regions."
   ]
  }
 ],
 "metadata": {
  "interpreter": {
   "hash": "097a33265ba9599d8790568c032cb4cd1467a60bff59fa8decf8e4ac0e413d18"
  },
  "kernelspec": {
   "display_name": "Python 3 (ipykernel)",
   "language": "python",
   "name": "python3"
  },
  "language_info": {
   "codemirror_mode": {
    "name": "ipython",
    "version": 3
   },
   "file_extension": ".py",
   "mimetype": "text/x-python",
   "name": "python",
   "nbconvert_exporter": "python",
   "pygments_lexer": "ipython3",
   "version": "3.9.7 (default, Sep 16 2021, 16:59:28) [MSC v.1916 64 bit (AMD64)]"
  }
 },
 "nbformat": 4,
 "nbformat_minor": 2
}
